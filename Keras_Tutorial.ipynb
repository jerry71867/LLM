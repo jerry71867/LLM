{
  "nbformat": 4,
  "nbformat_minor": 0,
  "metadata": {
    "colab": {
      "provenance": [],
      "authorship_tag": "ABX9TyNar1zObQE7qNYfvgbaZfll",
      "include_colab_link": true
    },
    "kernelspec": {
      "name": "python3",
      "display_name": "Python 3"
    },
    "language_info": {
      "name": "python"
    }
  },
  "cells": [
    {
      "cell_type": "markdown",
      "metadata": {
        "id": "view-in-github",
        "colab_type": "text"
      },
      "source": [
        "<a href=\"https://colab.research.google.com/github/jerry71867/LLM/blob/main/Keras_Tutorial.ipynb\" target=\"_parent\"><img src=\"https://colab.research.google.com/assets/colab-badge.svg\" alt=\"Open In Colab\"/></a>"
      ]
    },
    {
      "cell_type": "code",
      "execution_count": null,
      "metadata": {
        "colab": {
          "base_uri": "https://localhost:8080/"
        },
        "id": "6fk7MdhWDHPX",
        "outputId": "41384772-41d3-45ba-9aed-1d69d838e596"
      },
      "outputs": [
        {
          "output_type": "stream",
          "name": "stdout",
          "text": [
            "(1000, 10)\n",
            "[0.97364908 0.80170898 0.35994346 0.23457935 0.49015513 0.40383999\n",
            " 0.12972327 0.55085628 0.37105104 0.86937513]\n",
            "(1000, 1)\n",
            "[1]\n",
            "Epoch 1/10\n",
            "32/32 [==============================] - 1s 3ms/step - loss: 0.7011 - accuracy: 0.5130\n",
            "Epoch 2/10\n",
            "32/32 [==============================] - 0s 3ms/step - loss: 0.6984 - accuracy: 0.4760\n",
            "Epoch 3/10\n",
            "32/32 [==============================] - 0s 3ms/step - loss: 0.6963 - accuracy: 0.4900\n",
            "Epoch 4/10\n",
            "32/32 [==============================] - 0s 3ms/step - loss: 0.6957 - accuracy: 0.5000\n",
            "Epoch 5/10\n",
            "32/32 [==============================] - 0s 4ms/step - loss: 0.6948 - accuracy: 0.5060\n",
            "Epoch 6/10\n",
            "32/32 [==============================] - 0s 4ms/step - loss: 0.6937 - accuracy: 0.5070\n",
            "Epoch 7/10\n",
            "32/32 [==============================] - 0s 3ms/step - loss: 0.6927 - accuracy: 0.5010\n",
            "Epoch 8/10\n",
            "32/32 [==============================] - 0s 4ms/step - loss: 0.6926 - accuracy: 0.5200\n",
            "Epoch 9/10\n",
            "32/32 [==============================] - 0s 4ms/step - loss: 0.6917 - accuracy: 0.5210\n",
            "Epoch 10/10\n",
            "32/32 [==============================] - 0s 4ms/step - loss: 0.6911 - accuracy: 0.5190\n",
            "32/32 [==============================] - 0s 3ms/step - loss: 0.6898 - accuracy: 0.5410\n",
            "0.5410000085830688\n"
          ]
        }
      ],
      "source": [
        "from tensorflow import keras\n",
        "from keras.models import Sequential\n",
        "from keras.layers import Dense\n",
        "#導入了TensorFlow中的Keras模組，Keras是一個用於深度學習的高級API，可以簡化神經網絡的建立和訓練過程。\n",
        "import numpy as np\n",
        "#導入了NumPy，NumPy是一個用於數值運算的Python函式庫。\n",
        "data = np.random.random((1000, 10)) #隨機產生1000筆資料，每筆資料包含十個float數字\n",
        "labels = np.random.randint(2, size=(1000, 1)) #隨機產生1000筆資料，每筆資料上限為2(意思就是0 或 1)\n",
        "print(np.shape(data))\n",
        "#印出 data 數組的形狀，即(1000, 10)，表示有1000筆資料，每筆資料包含10個特徵。\n",
        "print(data[0])\n",
        "#印出 data 數組中的第一筆資料，顯示第一筆資料的10個特徵值。\n",
        "print(np.shape(labels))\n",
        "#印出 labels 數組的形狀，即(1000, 1)，表示有1000筆標籤，每筆標籤是一個0或1的值。\n",
        "print(labels[0])\n",
        "#印出 labels 數組中的第一筆標籤值。\n",
        "\n",
        "model = Sequential()\n",
        "#創建一個Keras模型 model，它是一個Sequential模型，我們可以按順序將神經網絡層添加到這個模型中。\n",
        "model.add(Dense(32, activation='relu', input_dim=10))\n",
        "#將一個稱為Dense的神經網絡層添加到模型中。該層有32個神經元，激活函數為ReLU（整流線性單元），並指定輸入的特徵數為10。\n",
        "model.add(Dense(1, activation='sigmoid'))\n",
        "#添加一個Dense層，但這次只有1個神經元，激活函數為Sigmoid。這是一個二分類問題的設定，最終輸出將是一個在0和1之間的概率值。\n",
        "model.compile(optimizer='rmsprop', loss='binary_crossentropy', metrics=['accuracy'])\n",
        "#指定了優化器（optimizer）為'rmsprop'，損失函數（loss）為'binary_crossentropy'，並指定了評估指標（metrics）為'accuracy'。\n",
        "model.fit(data, labels, epochs=10, batch_size=32)\n",
        "#使用 data 作為輸入特徵，labels 作為標籤，進行10個迭代周期（epochs），每個批次（batch）包含32筆資料。在這個過程中，模型的權重會被調整以最小化損失函數。\n",
        "score=model.evaluate(data, labels)\n",
        "#使用訓練好的模型來評估 data 和 labels 的性能，並將結果存儲在 score 中。\n",
        "print(score[1])"
      ]
    }
  ]
}