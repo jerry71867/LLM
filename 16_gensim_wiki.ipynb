{
  "nbformat": 4,
  "nbformat_minor": 0,
  "metadata": {
    "colab": {
      "provenance": [],
      "authorship_tag": "ABX9TyM+eWJ90sbWNasicKZH6DkO",
      "include_colab_link": true
    },
    "kernelspec": {
      "name": "python3",
      "display_name": "Python 3"
    },
    "language_info": {
      "name": "python"
    }
  },
  "cells": [
    {
      "cell_type": "markdown",
      "metadata": {
        "id": "view-in-github",
        "colab_type": "text"
      },
      "source": [
        "<a href=\"https://colab.research.google.com/github/jerry71867/LLM/blob/main/16_gensim_wiki.ipynb\" target=\"_parent\"><img src=\"https://colab.research.google.com/assets/colab-badge.svg\" alt=\"Open In Colab\"/></a>"
      ]
    },
    {
      "cell_type": "markdown",
      "source": [
        "# **Word2Vec實作**\n",
        "\n",
        "*   字詞所代表的意義非常多元，在不同狀況下，會代表不同意思。要把多元意思用單一向量表示，則必須要進行word embedding的動作，也就是把高維向量降為低維向量的過程\n",
        "\n",
        "*   之前介紹過，利用分散式表示法來表達字詞向量，例如PMI、SVD..統計法..等\n",
        "*   2013年神經網路盛行後，Tomas Mikolov利用神經網路訓練方式，來獲得字詞的表達向量，獲得很棒的成果。一般認為是利用神經網路模擬人類的理解能力，獲得不錯的分布空間所得到的成果。\n",
        "*   本範例以維基百科wiki部分資料作範例\n",
        "*   資料來源：https://dumps.wikimedia.org/zhwiki/20231201/zhwiki-20231201-pages-articles-multistream1.xml-p1p187712.bz2\n",
        "*   利用結巴分詞(jieba)進行斷詞，gensim套件進行word2vec計算\n",
        "本範例約需1小時長時間執行\n",
        "\n",
        "\n",
        "\n",
        "\n",
        "\n"
      ],
      "metadata": {
        "id": "xfd2SUcjawmh"
      }
    },
    {
      "cell_type": "code",
      "source": [
        "!wget https://dumps.wikimedia.org/zhwiki/20231201/zhwiki-20231201-pages-articles-multistream1.xml-p1p187712.bz2"
      ],
      "metadata": {
        "colab": {
          "base_uri": "https://localhost:8080/"
        },
        "id": "jrpw3Pj1aws5",
        "outputId": "04050fe6-bbb6-4ae2-dbfc-37715a48e5ec"
      },
      "execution_count": null,
      "outputs": [
        {
          "output_type": "stream",
          "name": "stdout",
          "text": [
            "--2024-01-04 12:23:11--  https://dumps.wikimedia.org/zhwiki/20231201/zhwiki-20231201-pages-articles-multistream1.xml-p1p187712.bz2\n",
            "Resolving dumps.wikimedia.org (dumps.wikimedia.org)... 208.80.154.142, 2620:0:861:2:208:80:154:142\n",
            "Connecting to dumps.wikimedia.org (dumps.wikimedia.org)|208.80.154.142|:443... connected.\n",
            "HTTP request sent, awaiting response... 200 OK\n",
            "Length: 230609687 (220M) [application/octet-stream]\n",
            "Saving to: ‘zhwiki-20231201-pages-articles-multistream1.xml-p1p187712.bz2’\n",
            "\n",
            "zhwiki-20231201-pag 100%[===================>] 219.93M  3.05MB/s    in 61s     \n",
            "\n",
            "2024-01-04 12:24:12 (3.61 MB/s) - ‘zhwiki-20231201-pages-articles-multistream1.xml-p1p187712.bz2’ saved [230609687/230609687]\n",
            "\n"
          ]
        }
      ]
    },
    {
      "cell_type": "markdown",
      "source": [
        "opencc是繁簡轉換工具"
      ],
      "metadata": {
        "id": "zowkGqIfaw25"
      }
    },
    {
      "cell_type": "code",
      "source": [
        "\n",
        "!pip install opencc-python-reimplemented"
      ],
      "metadata": {
        "colab": {
          "base_uri": "https://localhost:8080/"
        },
        "id": "e4PVpNXqbZN6",
        "outputId": "1e8aa249-6081-477c-ad8d-74be4d3c6f06"
      },
      "execution_count": null,
      "outputs": [
        {
          "output_type": "stream",
          "name": "stdout",
          "text": [
            "Collecting opencc-python-reimplemented\n",
            "  Downloading opencc_python_reimplemented-0.1.7-py2.py3-none-any.whl (481 kB)\n",
            "\u001b[2K     \u001b[90m━━━━━━━━━━━━━━━━━━━━━━━━━━━━━━━━━━━━━━━━\u001b[0m \u001b[32m481.8/481.8 kB\u001b[0m \u001b[31m3.3 MB/s\u001b[0m eta \u001b[36m0:00:00\u001b[0m\n",
            "\u001b[?25hInstalling collected packages: opencc-python-reimplemented\n",
            "Successfully installed opencc-python-reimplemented-0.1.7\n"
          ]
        }
      ]
    },
    {
      "cell_type": "markdown",
      "source": [
        "gensim是訓練word2vec的函式庫"
      ],
      "metadata": {
        "id": "vnjsEIIYbb4R"
      }
    },
    {
      "cell_type": "code",
      "source": [
        "\n",
        "from gensim.corpora import WikiCorpus\n",
        "\n",
        "wiki_corpus = WikiCorpus('zhwiki-20231201-pages-articles-multistream1.xml-p1p187712.bz2', dictionary={})"
      ],
      "metadata": {
        "id": "QayjuBfwbcjB"
      },
      "execution_count": null,
      "outputs": []
    },
    {
      "cell_type": "code",
      "source": [
        "\n",
        "wiki_corpus"
      ],
      "metadata": {
        "colab": {
          "base_uri": "https://localhost:8080/"
        },
        "id": "kZK1XRebbfjZ",
        "outputId": "daee4125-37db-4d83-d35d-1d76e96af5c0"
      },
      "execution_count": null,
      "outputs": [
        {
          "output_type": "execute_result",
          "data": {
            "text/plain": [
              "<gensim.corpora.wikicorpus.WikiCorpus at 0x7eaf11f74070>"
            ]
          },
          "metadata": {},
          "execution_count": 4
        }
      ]
    },
    {
      "cell_type": "code",
      "source": [
        "\n",
        "next(iter(wiki_corpus.get_texts()))[:10]"
      ],
      "metadata": {
        "colab": {
          "base_uri": "https://localhost:8080/"
        },
        "id": "rmOI9VmYbjGH",
        "outputId": "099cce00-3385-4fb6-80ad-6976ca32b0d0"
      },
      "execution_count": null,
      "outputs": [
        {
          "output_type": "execute_result",
          "data": {
            "text/plain": [
              "['歐幾里得',\n",
              " '西元前三世紀的古希臘數學家',\n",
              " '現在被認為是幾何之父',\n",
              " '此畫為拉斐爾的作品',\n",
              " '雅典學院',\n",
              " '数学',\n",
              " '是研究數量',\n",
              " '屬於形式科學的一種',\n",
              " '數學利用抽象化和邏輯推理',\n",
              " '從計數']"
            ]
          },
          "metadata": {},
          "execution_count": 5
        }
      ]
    },
    {
      "cell_type": "markdown",
      "source": [
        "### 把wiki的資料檔案，轉換成連續文字的txt檔案"
      ],
      "metadata": {
        "id": "9iTFPevPblvx"
      }
    },
    {
      "cell_type": "code",
      "source": [
        "text_num = 0\n",
        "#初始化一個變數text_num，用於計算處理的文本數量。\n",
        "with open('wiki_text.txt', 'w', encoding='utf-8') as f:\n",
        "#打開一個檔案wiki_text.txt以進行寫入，使用 UTF-8 編碼。\n",
        "    for text in wiki_corpus.get_texts():\n",
        "    #遍歷 wiki_corpus 中的文本。\n",
        "        f.write(' '.join(text)+'\\n')\n",
        "        #將處理過的文本以空格分隔的詞彙序列的形式寫入文件。\n",
        "        text_num += 1\n",
        "        #計算處理的文本數量。\n",
        "        if text_num % 10000 == 0:\n",
        "        #當處理的文本數量達到10000篇時，執行下面的代碼塊。\n",
        "            print('{} articles processed.'.format(text_num))\n",
        "            #列印目前處理的文本數量。\n",
        "\n",
        "    print('{} articles processed.'.format(text_num))\n",
        "    #在所有文本處理完成後，再次列印總處理的文本數量。\n"
      ],
      "metadata": {
        "id": "Y8MD3IqGbu5K"
      },
      "execution_count": null,
      "outputs": []
    },
    {
      "cell_type": "markdown",
      "source": [
        "10000 articles processed.\n",
        "\n",
        "20000 articles processed.\n",
        "\n",
        "30000 articles processed.\n",
        "\n",
        "32705 articles processed."
      ],
      "metadata": {
        "id": "ONz7nU3glPuD"
      }
    },
    {
      "cell_type": "code",
      "source": [
        "import jieba\n",
        "from opencc import OpenCC\n",
        "\n",
        "\n",
        "# Initial\n",
        "cc = OpenCC('s2t')\n",
        "train_data = open('wiki_text.txt', 'r', encoding='utf-8').read()\n",
        "train_data = cc.convert(train_data)\n",
        "train_data = jieba.lcut(train_data)\n",
        "train_data = [word for word in train_data if word != '']\n",
        "train_data = ' '.join(train_data)\n",
        "open('seg.txt', 'w', encoding='utf-8').write(train_data)\n"
      ],
      "metadata": {
        "id": "tMhvDCgabxxq",
        "colab": {
          "base_uri": "https://localhost:8080/"
        },
        "outputId": "5bddd4db-b0d3-4b76-af7f-6e958be0112e"
      },
      "execution_count": null,
      "outputs": [
        {
          "output_type": "stream",
          "name": "stderr",
          "text": [
            "Building prefix dict from the default dictionary ...\n",
            "DEBUG:jieba:Building prefix dict from the default dictionary ...\n",
            "Dumping model to file cache /tmp/jieba.cache\n",
            "DEBUG:jieba:Dumping model to file cache /tmp/jieba.cache\n",
            "Loading model cost 0.966 seconds.\n",
            "DEBUG:jieba:Loading model cost 0.966 seconds.\n",
            "Prefix dict has been built successfully.\n",
            "DEBUG:jieba:Prefix dict has been built successfully.\n"
          ]
        },
        {
          "output_type": "execute_result",
          "data": {
            "text/plain": [
              "28134217"
            ]
          },
          "metadata": {},
          "execution_count": 7
        }
      ]
    },
    {
      "cell_type": "code",
      "source": [
        "from gensim.models import word2vec\n",
        "\n",
        "\n",
        "# Settings\n",
        "seed = 666\n",
        "sg = 0\n",
        "window_size = 10\n",
        "#vector_size = 100\n",
        "min_count = 1\n",
        "workers = 8\n",
        "#epochs = 5\n",
        "batch_words = 10000\n",
        "\n",
        "train_data = word2vec.LineSentence('seg.txt')\n",
        "model = word2vec.Word2Vec(\n",
        "    train_data,\n",
        "    min_count=min_count,\n",
        "    #size=vector_size,\n",
        "    workers=workers,\n",
        "    #iter=epochs,\n",
        "    window=window_size,\n",
        "    sg=sg,\n",
        "    seed=seed,\n",
        "    batch_words=batch_words\n",
        ")\n",
        "\n",
        "model.save('word2vec.model')\n"
      ],
      "metadata": {
        "id": "PNIgj5kcb0qi"
      },
      "execution_count": null,
      "outputs": []
    },
    {
      "cell_type": "code",
      "source": [
        "from gensim.models import word2vec\n",
        "\n",
        "string = '電腦'\n",
        "model = word2vec.Word2Vec.load('word2vec.model')\n",
        "print(string)\n",
        "\n",
        "for item in model.wv.most_similar(string):\n",
        "    print(item)"
      ],
      "metadata": {
        "id": "HSX8KYw3b2mx"
      },
      "execution_count": null,
      "outputs": []
    },
    {
      "cell_type": "markdown",
      "source": [
        "電腦\n",
        "('計算機', 0.7747930288314819)\n",
        "\n",
        "('軟體', 0.7732110619544983)\n",
        "\n",
        "('程式', 0.7476573586463928)\n",
        "\n",
        "('pda', 0.7414882779121399)\n",
        "\n",
        "('遊戲機', 0.7409443855285645)\n",
        "\n",
        "('硬體', 0.7400156259536743)\n",
        "\n",
        "('pc', 0.7379648089408875)\n",
        "\n",
        "('ibm', 0.728009045124054)\n",
        "\n",
        "('家用', 0.7150958776473999)\n",
        "\n",
        "('手機', 0.7146145701408386)"
      ],
      "metadata": {
        "id": "PsIZdJLol6jE"
      }
    }
  ]
}