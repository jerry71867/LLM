{
  "nbformat": 4,
  "nbformat_minor": 0,
  "metadata": {
    "colab": {
      "provenance": [],
      "authorship_tag": "ABX9TyOtupeinO1Ggb4JwwAAyZki",
      "include_colab_link": true
    },
    "kernelspec": {
      "name": "python3",
      "display_name": "Python 3"
    },
    "language_info": {
      "name": "python"
    }
  },
  "cells": [
    {
      "cell_type": "markdown",
      "metadata": {
        "id": "view-in-github",
        "colab_type": "text"
      },
      "source": [
        "<a href=\"https://colab.research.google.com/github/jerry71867/LLM/blob/main/Keras_tutorial2.ipynb\" target=\"_parent\"><img src=\"https://colab.research.google.com/assets/colab-badge.svg\" alt=\"Open In Colab\"/></a>"
      ]
    },
    {
      "cell_type": "code",
      "execution_count": 1,
      "metadata": {
        "colab": {
          "base_uri": "https://localhost:8080/"
        },
        "id": "pMnwo9q9Dptk",
        "outputId": "31423af2-6ae2-4e3d-eb52-fac37a396493"
      },
      "outputs": [
        {
          "output_type": "stream",
          "name": "stdout",
          "text": [
            "Epoch 1/10\n",
            "32/32 [==============================] - 1s 9ms/step - loss: 704.6075 - accuracy: 0.0620\n",
            "Epoch 2/10\n",
            "32/32 [==============================] - 0s 8ms/step - loss: 2617.0740 - accuracy: 0.0650\n",
            "Epoch 3/10\n",
            "32/32 [==============================] - 0s 8ms/step - loss: 5031.7676 - accuracy: 0.0620\n",
            "Epoch 4/10\n",
            "32/32 [==============================] - 0s 11ms/step - loss: 7185.4531 - accuracy: 0.0560\n",
            "Epoch 5/10\n",
            "32/32 [==============================] - 0s 12ms/step - loss: 9903.6396 - accuracy: 0.0620\n",
            "Epoch 6/10\n",
            "32/32 [==============================] - 0s 8ms/step - loss: 12144.6611 - accuracy: 0.0620\n",
            "Epoch 7/10\n",
            "32/32 [==============================] - 0s 10ms/step - loss: 14060.9414 - accuracy: 0.0670\n",
            "Epoch 8/10\n",
            "32/32 [==============================] - 0s 9ms/step - loss: 16802.1094 - accuracy: 0.0530\n",
            "Epoch 9/10\n",
            "32/32 [==============================] - 0s 9ms/step - loss: 18778.7266 - accuracy: 0.0540\n",
            "Epoch 10/10\n",
            "32/32 [==============================] - 0s 9ms/step - loss: 20962.3945 - accuracy: 0.0620\n",
            "32/32 [==============================] - 0s 4ms/step - loss: 21662.7969 - accuracy: 0.0600\n",
            "0.05999999865889549\n"
          ]
        }
      ],
      "source": [
        "from tensorflow import keras\n",
        "from keras.models import Sequential\n",
        "from keras.layers import Dense, Dropout\n",
        "#導入了TensorFlow中的Keras模組，同時導入了建立神經網絡所需的Sequential模型、Dense層和Dropout層。\n",
        "\n",
        "model = Sequential()\n",
        "#創建一個Keras模型 model，是一個Sequential模型，用於按順序構建神經網絡。\n",
        "model.add(Dense(512, activation='relu', input_dim=784))\n",
        "#添加一個Dense層，該層包含512個神經元，激活函數為ReLU（整流線性單元），並指定輸入特徵的維度為784。這表示這是一個具有784個輸入特徵和512個神經元的全連接層。\n",
        "model.add(Dropout(0.2))\n",
        "#添加一個Dropout層，它的作用是在訓練過程中隨機地丟棄一部分輸入數據，這有助於防止過擬合。\n",
        "#0.2 表示在每次訓練迭代中隨機丟棄20%的輸入數據。\n",
        "model.add(Dense(10, activation='softmax'))\n",
        "#添加一個Dense層，有10個神經元，激活函數為Softmax。這是一個多類分類的輸出層，Softmax函數將輸出轉換為0到1之間的概率值，用於分類問題。\n",
        "model.compile(optimizer='adam', loss='categorical_crossentropy', metrics=['accuracy'])\n",
        "#指定了優化器（optimizer）為'adam'，損失函數（loss）為'categorical_crossentropy'，並指定了評估指標（metrics）為'accuracy'。這些設定用於訓練模型。\n",
        "\n",
        "import numpy as np\n",
        "data = np.random.random((1000, 784))\n",
        "#生成一個形狀為(1000, 784)的NumPy數組 data，其中包含1000筆資料，每筆資料包含784個隨機浮點數。\n",
        "labels = np.random.randint(10, size=(1000, 10))\n",
        "#生成一個形狀為(1000, 10)的NumPy數組 labels，其中包含1000筆標籤，每筆標籤是0到9之間的隨機整數。\n",
        "\n",
        "model.fit(data, labels, epochs=10, batch_size=32)\n",
        "#使用 data 作為輸入特徵，labels 作為標籤，進行10個迭代周期（epochs），每個批次（batch）包含32筆資料。\n",
        "\n",
        "score=model.evaluate(data, labels)\n",
        "\n",
        "print(score[1])"
      ]
    }
  ]
}